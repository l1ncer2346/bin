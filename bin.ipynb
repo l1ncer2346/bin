{
  "nbformat": 4,
  "nbformat_minor": 0,
  "metadata": {
    "colab": {
      "name": "Untitled1.ipynb",
      "provenance": [],
      "collapsed_sections": [],
      "authorship_tag": "ABX9TyNsMCb+uJmnaAaYo5w567In",
      "include_colab_link": true
    },
    "kernelspec": {
      "name": "python3",
      "display_name": "Python 3"
    }
  },
  "cells": [
    {
      "cell_type": "markdown",
      "metadata": {
        "id": "view-in-github",
        "colab_type": "text"
      },
      "source": [
        "<a href=\"https://colab.research.google.com/github/l1ncer2346/bin/blob/main/bin.ipynb\" target=\"_parent\"><img src=\"https://colab.research.google.com/assets/colab-badge.svg\" alt=\"Open In Colab\"/></a>"
      ]
    },
    {
      "cell_type": "code",
      "metadata": {
        "id": "EM_0MoS6rkx0",
        "outputId": "6a28dbb1-844e-4951-f45f-e6c068ce5e40",
        "colab": {
          "base_uri": "https://localhost:8080/",
          "height": 109
        }
      },
      "source": [
        "import random\n",
        "\n",
        "def BinarySearch(array, defined_integer):\n",
        "  if len(array) != 0:\n",
        "    random_data = random.randint(0, len(array)-1)\n",
        "  else:\n",
        "    print('No such element in array')\n",
        "    return 0\n",
        "  #print(defined_integer)\n",
        "  if defined_integer > array[random_data] and random_data != len(array):\n",
        "    BinarySearch([i for i in array if i > array[random_data]], defined_integer)\n",
        "  elif defined_integer < array[random_data] and random_data != 0:\n",
        "    BinarySearch([i for i in array if i < array[random_data]], defined_integer)\n",
        "  elif array[random_data] == defined_integer:\n",
        "    print(array[random_data], 'Element was find')\n",
        "  else:\n",
        "    print('No such element in array')\n",
        "\n",
        "n = 5\n",
        "array = []\n",
        "for i in range(n):\n",
        "  array.append(random.randint(-10,11))\n",
        "print(array)\n",
        "\n",
        "defined_integer = random.randint(-10, 11)\n",
        "print(\"Integer for search: \", defined_integer)\n",
        "print(\"Sorted array: \", sorted(array))\n",
        "\n",
        "BinarySearch(sorted(array), defined_integer) \n",
        "\n",
        "#print(\"Binary Search: element is \", searched_element, \"; index of element is \", index_of_element)\n",
        "\n",
        "\"\"\"\n",
        "\n",
        "\"\"\""
      ],
      "execution_count": 118,
      "outputs": [
        {
          "output_type": "stream",
          "text": [
            "[7, 4, 3, 11, -2]\n",
            "Integer for search:  10\n",
            "Sorted array:  [-2, 3, 4, 7, 11]\n",
            "No such element in array\n"
          ],
          "name": "stdout"
        },
        {
          "output_type": "execute_result",
          "data": {
            "application/vnd.google.colaboratory.intrinsic+json": {
              "type": "string"
            },
            "text/plain": [
              "'\\n\\n'"
            ]
          },
          "metadata": {
            "tags": []
          },
          "execution_count": 118
        }
      ]
    }
  ]
}